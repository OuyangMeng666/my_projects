{
 "cells": [
  {
   "cell_type": "code",
   "execution_count": 1,
   "metadata": {},
   "outputs": [],
   "source": [
    "def get_translation(directory, dest='en'):\n",
    "    '''takes a folder containing a tree of folders and files and a destination language (first two letters of the language name) \n",
    "    (by default it is english)\n",
    "    and translates all folders and files, outputing the result in a json file with the initial name and translated name\n",
    "    need to download googletrans:\n",
    "    C:\\>py -3 -m pip install googletrans''' \n",
    "    import os\n",
    "    import pathlib as pl\n",
    "    import json\n",
    "    from googletrans import Translator\n",
    "    to_translate = []\n",
    "    for root, dirs, files in os.walk(directory):\n",
    "        for name in dirs:\n",
    "            if name not in to_translate:\n",
    "                to_translate.append(os.path.join(name))\n",
    "        for name in files:\n",
    "            if name not in to_translate:\n",
    "                name = str(name).split(\".\")\n",
    "                to_translate.append(os.path.join(name[0]))\n",
    "    to_translate_str = '-'.join(to_translate)\n",
    "    translator = Translator()\n",
    "    translated = translator.translate(to_translate_str, dest) \n",
    "    new_lang = translated.text\n",
    "    new_lang_list = new_lang.split(\"-\")\n",
    "    translated = []\n",
    "    for name in new_lang_list:\n",
    "        name = name.strip()\n",
    "        name = name.replace(\" \", \"_\")\n",
    "        translated.append(name)\n",
    "    translation_dict = dict(zip(to_translate, translated)) \n",
    "    with open('translated.json', 'w') as outfile:\n",
    "        json.dump(translation_dict, outfile)"
   ]
  },
  {
   "cell_type": "code",
   "execution_count": null,
   "metadata": {
    "scrolled": true
   },
   "outputs": [],
   "source": []
  },
  {
   "cell_type": "code",
   "execution_count": 79,
   "metadata": {},
   "outputs": [],
   "source": [
    "def translate(folder):\n",
    "    \"\"\"takes a folder and renames all folders using the dictionary \n",
    "    created by the 'get translation' function\"\"\"\n",
    "    import os\n",
    "    import json\n",
    "    file = open('translated.json', 'r')\n",
    "    translation_dict = json.load(file)\n",
    "    for root, dirs, files in os.walk('C:/folder', topdown=False):\n",
    "            for dir_name in dirs:\n",
    "                for key in translation_dict:\n",
    "                    if dir_name == key:\n",
    "                        os.rename(os.path.join(root, dir_name), \n",
    "                                  os.path.join(root, translation_dict[key]))"
   ]
  }
 ],
 "metadata": {
  "kernelspec": {
   "display_name": "Python 3",
   "language": "python",
   "name": "python3"
  },
  "language_info": {
   "codemirror_mode": {
    "name": "ipython",
    "version": 3
   },
   "file_extension": ".py",
   "mimetype": "text/x-python",
   "name": "python",
   "nbconvert_exporter": "python",
   "pygments_lexer": "ipython3",
   "version": "3.7.0"
  }
 },
 "nbformat": 4,
 "nbformat_minor": 2
}
